{
 "cells": [
  {
   "cell_type": "code",
   "execution_count": 1,
   "metadata": {},
   "outputs": [],
   "source": [
    "using Printf\n",
    "using Statistics"
   ]
  },
  {
   "cell_type": "code",
   "execution_count": 2,
   "metadata": {},
   "outputs": [
    {
     "name": "stdout",
     "output_type": "stream",
     "text": [
      "Dog\n"
     ]
    }
   ],
   "source": [
    "s = 0\n",
    "s = \"Dog\"\n",
    "println(s)"
   ]
  },
  {
   "cell_type": "code",
   "execution_count": 3,
   "metadata": {},
   "outputs": [
    {
     "ename": "LoadError",
     "evalue": "MethodError: \u001b[0mCannot `convert` an object of type \u001b[92mString\u001b[39m\u001b[0m to an object of type \u001b[91mInt8\u001b[39m\n\u001b[0mClosest candidates are:\n\u001b[0m  convert(::Type{T}, \u001b[91m::T\u001b[39m) where T<:Number at number.jl:6\n\u001b[0m  convert(::Type{T}, \u001b[91m::Number\u001b[39m) where T<:Number at number.jl:7\n\u001b[0m  convert(::Type{T}, \u001b[91m::Base.TwicePrecision\u001b[39m) where T<:Number at twiceprecision.jl:250\n\u001b[0m  ...",
     "output_type": "error",
     "traceback": [
      "MethodError: \u001b[0mCannot `convert` an object of type \u001b[92mString\u001b[39m\u001b[0m to an object of type \u001b[91mInt8\u001b[39m\n\u001b[0mClosest candidates are:\n\u001b[0m  convert(::Type{T}, \u001b[91m::T\u001b[39m) where T<:Number at number.jl:6\n\u001b[0m  convert(::Type{T}, \u001b[91m::Number\u001b[39m) where T<:Number at number.jl:7\n\u001b[0m  convert(::Type{T}, \u001b[91m::Base.TwicePrecision\u001b[39m) where T<:Number at twiceprecision.jl:250\n\u001b[0m  ...",
      "",
      "Stacktrace:",
      " [1] changeNum()",
      "   @ Main .\\In[3]:3",
      " [2] top-level scope",
      "   @ In[3]:6",
      " [3] eval",
      "   @ .\\boot.jl:360 [inlined]",
      " [4] include_string(mapexpr::typeof(REPL.softscope), mod::Module, code::String, filename::String)",
      "   @ Base .\\loading.jl:1094"
     ]
    }
   ],
   "source": [
    "function changeNum()\n",
    "    x::Int8 = 10 #asserting datatype\n",
    "    x = \"Dog\"\n",
    "end\n",
    "\n",
    "changeNum() #will throw error"
   ]
  },
  {
   "cell_type": "code",
   "execution_count": 4,
   "metadata": {},
   "outputs": [
    {
     "name": "stdout",
     "output_type": "stream",
     "text": [
      "1.22222222222211\n",
      "1.222222222222211\n"
     ]
    }
   ],
   "source": [
    "bool_var = true\n",
    "bf = 1.111111111111 #14 digits\n",
    "println(bf + 0.11111111111111)\n",
    "bf = 1.1111111111111 #15digits\n",
    "println(bf + 0.111111111111111)\n",
    "\n",
    "#Bigfloat can be used "
   ]
  },
  {
   "cell_type": "code",
   "execution_count": 5,
   "metadata": {},
   "outputs": [
    {
     "name": "stdout",
     "output_type": "stream",
     "text": [
      "x\n"
     ]
    }
   ],
   "source": [
    "c2 = Char(120)\n",
    "println(c2)"
   ]
  },
  {
   "cell_type": "code",
   "execution_count": 6,
   "metadata": {},
   "outputs": [
    {
     "name": "stdout",
     "output_type": "stream",
     "text": [
      "1\n",
      "1.0\n",
      "1\n"
     ]
    }
   ],
   "source": [
    "i1 = UInt8(trunc(1.56))\n",
    "println(i1)\n",
    "\n",
    "f1 = parse(Float64, \"1\")\n",
    "println(f1)\n",
    "\n",
    "i2 = parse(Int8, \"1\")\n",
    "println(i2)"
   ]
  },
  {
   "cell_type": "code",
   "execution_count": 7,
   "metadata": {},
   "outputs": [
    {
     "name": "stdout",
     "output_type": "stream",
     "text": [
      "17\n",
      "S\n",
      "\n",
      "\n",
      "String\n",
      "str1str2\n",
      "str1str2\n"
     ]
    }
   ],
   "source": [
    "s1 = \"String in quotes\\n\"\n",
    "println(length(s1))\n",
    "println(s1[1])\n",
    "println(s1[end])\n",
    "println(s1[1:6])\n",
    "\n",
    "s2 = string(\"str1\", \"str2\")\n",
    "println(s2)\n",
    "println(\"str1\" * \"str2\")"
   ]
  },
  {
   "cell_type": "code",
   "execution_count": 8,
   "metadata": {},
   "outputs": [
    {
     "name": "stdout",
     "output_type": "stream",
     "text": [
      "2 + 4 = 6\n"
     ]
    }
   ],
   "source": [
    "i3 = 2\n",
    "i4 = 4\n",
    "println(\"$i3 + $i4 = $(i3 + i4)\")"
   ]
  },
  {
   "cell_type": "code",
   "execution_count": 9,
   "metadata": {},
   "outputs": [
    {
     "name": "stdout",
     "output_type": "stream",
     "text": [
      "multi\n",
      "line \n",
      "srting \n",
      "\n"
     ]
    }
   ],
   "source": [
    "s3 = \"\"\"\n",
    "multi\n",
    "line \n",
    "srting \n",
    "\"\"\"\n",
    "println(s3)"
   ]
  },
  {
   "cell_type": "code",
   "execution_count": 10,
   "metadata": {},
   "outputs": [
    {
     "name": "stdout",
     "output_type": "stream",
     "text": [
      "false\n",
      "2\n",
      "true\n"
     ]
    }
   ],
   "source": [
    "println(\"abc\" > \"acb\")\n",
    "println(findfirst(isequal('b'), \"abc\"))\n",
    "println(occursin(\"key\", \"monkey\"))"
   ]
  },
  {
   "cell_type": "code",
   "execution_count": 11,
   "metadata": {},
   "outputs": [
    {
     "name": "stdout",
     "output_type": "stream",
     "text": [
      "school\n"
     ]
    }
   ],
   "source": [
    "age = 12\n",
    "if age >= 5 && age <=6\n",
    "    println(\"Kindergarden\")\n",
    "\n",
    "elseif age >=7 && age <= 13\n",
    "    println(\"school\")\n",
    "else \n",
    "    println(\"none\")\n",
    "end"
   ]
  },
  {
   "cell_type": "code",
   "execution_count": 12,
   "metadata": {},
   "outputs": [
    {
     "name": "stdout",
     "output_type": "stream",
     "text": [
      "true || false = true\n",
      "!true = false\n"
     ]
    }
   ],
   "source": [
    "@printf(\"true || false = %s\\n\", true ||false ? \"true\" : \"false\")\n",
    "@printf(\"!true = %s\\n\", !true ? \"true\" : \"false\" )"
   ]
  },
  {
   "cell_type": "code",
   "execution_count": 13,
   "metadata": {},
   "outputs": [
    {
     "name": "stdout",
     "output_type": "stream",
     "text": [
      "2\n",
      "4\n",
      "6\n",
      "8\n"
     ]
    }
   ],
   "source": [
    "i =1 \n",
    "while i<20\n",
    "    if(i % 2) == 0\n",
    "        println(i)\n",
    "        global i+=1\n",
    "        continue \n",
    "    end\n",
    "    global i+= 1 \n",
    "    if i >= 10 \n",
    "        break\n",
    "    end\n",
    "end"
   ]
  },
  {
   "cell_type": "code",
   "execution_count": 14,
   "metadata": {},
   "outputs": [
    {
     "name": "stdout",
     "output_type": "stream",
     "text": [
      "1\n",
      "2\n",
      "3\n",
      "4\n",
      "5\n"
     ]
    }
   ],
   "source": [
    "for i = 1:5\n",
    "    println(i)\n",
    "end"
   ]
  },
  {
   "cell_type": "code",
   "execution_count": 15,
   "metadata": {},
   "outputs": [
    {
     "name": "stdout",
     "output_type": "stream",
     "text": [
      "2\n",
      "4\n",
      "6\n"
     ]
    }
   ],
   "source": [
    "for i in [2,4,6]\n",
    "    println(i)\n",
    "end"
   ]
  },
  {
   "cell_type": "code",
   "execution_count": 16,
   "metadata": {},
   "outputs": [
    {
     "name": "stdout",
     "output_type": "stream",
     "text": [
      "(1, 2)\n",
      "(1, 4)\n",
      "(1, 6)\n",
      "(1, 8)\n",
      "(1, 10)\n",
      "(2, 2)\n",
      "(2, 4)\n",
      "(2, 6)\n",
      "(2, 8)\n",
      "(2, 10)\n",
      "(3, 2)\n",
      "(3, 4)\n",
      "(3, 6)\n",
      "(3, 8)\n",
      "(3, 10)\n",
      "(4, 2)\n",
      "(4, 4)\n",
      "(4, 6)\n",
      "(4, 8)\n",
      "(4, 10)\n",
      "(5, 2)\n",
      "(5, 4)\n",
      "(5, 6)\n",
      "(5, 8)\n",
      "(5, 10)\n"
     ]
    }
   ],
   "source": [
    "for i = 1:5, j = 2:2:10\n",
    "    println((i,j))\n",
    "end"
   ]
  },
  {
   "cell_type": "code",
   "execution_count": 17,
   "metadata": {},
   "outputs": [
    {
     "name": "stdout",
     "output_type": "stream",
     "text": [
      "Int32[0 0; 0 0]\n",
      "Int32[243497816, 0, 243216192, 0, 244084712]\n",
      "1\n",
      "3\n",
      "false\n",
      "2\n",
      "[2, 3]\n",
      "2\n"
     ]
    }
   ],
   "source": [
    "a1 = zeros(Int32, 2,2) #array of zeros\n",
    "a2 = Array{Int32}(undef, 5) #array of undefined integers\n",
    "a3 = Float64[]\n",
    "a4 = [1,2,3]\n",
    "println(a1)\n",
    "println(a2)\n",
    "\n",
    "println(a4[1])\n",
    "println(a4[end])\n",
    "println(5 in a4)\n",
    "println(findfirst(isequal(2), a4))\n",
    "\n",
    "f(a) = (a >= 2) ? true : false\n",
    "println(findall(f, a4))\n",
    "println(count(f, a4))"
   ]
  },
  {
   "cell_type": "code",
   "execution_count": 18,
   "metadata": {},
   "outputs": [
    {
     "name": "stdout",
     "output_type": "stream",
     "text": [
      "(5,)\n",
      "5\n",
      "15\n",
      "[1, 8, 9, 2, 3, 4, 5]\n",
      "[1, 2, 3, 4, 5]\n",
      "5\n",
      "1\n",
      "[2, 4, 6, 8, 10]\n"
     ]
    }
   ],
   "source": [
    "a5 = [1,2,3,4,5]\n",
    "println(size(a5))\n",
    "println(length(a5))\n",
    "println(sum(a5))\n",
    "splice!(a5, 2:1, [8,9])\n",
    "println(a5)\n",
    "splice!(a5, 2:3)\n",
    "println(a5)\n",
    "println(maximum(a5))\n",
    "println(minimum(a5))\n",
    "println(a5*2)"
   ]
  },
  {
   "cell_type": "code",
   "execution_count": 19,
   "metadata": {},
   "outputs": [
    {
     "name": "stdout",
     "output_type": "stream",
     "text": [
      "0.0\n",
      "1.0\n",
      "0.0\n"
     ]
    }
   ],
   "source": [
    "a6 = [1, 3.14, \"Hello\"]\n",
    "a7 = [sin, cos, tan]\n",
    "for i in a7\n",
    "    println(i(0))\n",
    "end"
   ]
  },
  {
   "cell_type": "code",
   "execution_count": 20,
   "metadata": {},
   "outputs": [
    {
     "name": "stdout",
     "output_type": "stream",
     "text": [
      "1 2 3 4 5 6 "
     ]
    }
   ],
   "source": [
    "a8 = [1 2 3; 4 5 6]\n",
    "for n = 1:2, m = 1:3\n",
    "    @printf(\"%d \", a8[n, m])\n",
    "end"
   ]
  },
  {
   "cell_type": "code",
   "execution_count": 21,
   "metadata": {},
   "outputs": [
    {
     "name": "stdout",
     "output_type": "stream",
     "text": [
      "[2, 5]\n",
      "[4, 5, 6]\n",
      "[1, 2, 3, 4, 5]\n",
      "[2, 4, 6, 8, 10]\n",
      "[4, 3, 2, 1]\n"
     ]
    }
   ],
   "source": [
    "println(a8[ :,2])\n",
    "println(a8[2, :])\n",
    "a9 = collect(1:5)\n",
    "a10 = collect(2:2:10)\n",
    "a11 = collect(4:-1:1)\n",
    "println(a9)\n",
    "println(a10)\n",
    "println(a11)"
   ]
  },
  {
   "cell_type": "code",
   "execution_count": 22,
   "metadata": {},
   "outputs": [
    {
     "name": "stdout",
     "output_type": "stream",
     "text": [
      "[1, 4, 9, 16, 25]\n",
      "[1, 4, 9, 16, 25, 36]\n"
     ]
    }
   ],
   "source": [
    "a12 = [n^2 for n in 1:5]\n",
    "println(a12)\n",
    "push!(a12,36)\n",
    "println(a12)"
   ]
  },
  {
   "cell_type": "code",
   "execution_count": 23,
   "metadata": {},
   "outputs": [
    {
     "name": "stdout",
     "output_type": "stream",
     "text": [
      "[1 2 3 4 5; 2 4 6 8 10; 3 6 9 12 15; 4 8 12 16 20; 5 10 15 20 25]\n"
     ]
    }
   ],
   "source": [
    "a13 = [n * m for n in 1:5, m in 1:5]\n",
    "println(a13)"
   ]
  },
  {
   "cell_type": "code",
   "execution_count": 24,
   "metadata": {},
   "outputs": [
    {
     "name": "stdout",
     "output_type": "stream",
     "text": [
      "46929\n",
      "37209\n",
      "75024\n",
      "76246\n",
      "55417\n"
     ]
    }
   ],
   "source": [
    "a14 = rand(0:9, 5, 5)\n",
    "for n = 1:5\n",
    "    for m = 1:5\n",
    "        print(a14[n,m])\n",
    "    end\n",
    "    println()\n",
    "end"
   ]
  },
  {
   "cell_type": "code",
   "execution_count": 25,
   "metadata": {},
   "outputs": [
    {
     "name": "stdout",
     "output_type": "stream",
     "text": [
      "(1, 2, 3, 4)\n",
      "1\n",
      "1\n",
      "2\n",
      "3\n",
      "4\n",
      "1\n",
      "(\"xyz\", 100)\n"
     ]
    }
   ],
   "source": [
    "t1 = (1,2,3,4)\n",
    "println(t1)\n",
    "println(t1[1])\n",
    "for i in t1\n",
    "    println(i)\n",
    "end\n",
    "\n",
    "t2 = ((1,2), (3,4))\n",
    "println(t2[1][1])\n",
    "\n",
    "t3 = (n1 = (\"abc\", 50), n2 = (\"xyz\", 100))\n",
    "println(t3.n2)"
   ]
  },
  {
   "cell_type": "code",
   "execution_count": 26,
   "metadata": {},
   "outputs": [
    {
     "name": "stdout",
     "output_type": "stream",
     "text": [
      "3.14\n",
      "false\n",
      "Base.Fix2{typeof(in), Pair{String, Float64}}(in, \"pi\" => 3.14)\n",
      "[\"golden\", \"e\"]\n",
      "[1.618, 2.718]\n",
      "\"golden\" => 1.618\n",
      "\"e\" => 2.718\n",
      "golden : 1.618\n",
      "e : 2.718\n"
     ]
    }
   ],
   "source": [
    "d1 = Dict(\"pi\" => 3.14, \"e\"=> 2.718)\n",
    "println(d1[\"pi\"])\n",
    "d1[\"golden\"] = 1.618\n",
    "delete!(d1, \"pi\")\n",
    "println(haskey(d1, \"pi\"))\n",
    "println(in(\"pi\" => 3.14))\n",
    "\n",
    "println(keys(d1))\n",
    "println(values(d1))\n",
    "\n",
    "for kv in d1\n",
    "    println(kv)\n",
    "end\n",
    "\n",
    "for(key, value) in d1\n",
    "    println(key, \" : \", value)\n",
    "end"
   ]
  },
  {
   "cell_type": "code",
   "execution_count": 27,
   "metadata": {},
   "outputs": [
    {
     "name": "stdout",
     "output_type": "stream",
     "text": [
      "Set([\"b\", \"a\"])\n",
      "false\n",
      "Set([\"f\", \"c\", \"e\", \"b\", \"a\"])\n",
      "Set([\"a\"])\n",
      "Set([\"c\", \"b\"])\n"
     ]
    }
   ],
   "source": [
    "set1 = Set([\"a\", \"b\", \"a\"])\n",
    "println(set1)\n",
    "\n",
    "push!(set1, \"c\")\n",
    "println(in(\"d\", set1))\n",
    "set2 = Set([\"e\", \"f\", \"a\"])\n",
    "println(union(set1, set2))\n",
    "println(intersect(set1,set2))\n",
    "println(setdiff(set1,set2))"
   ]
  },
  {
   "cell_type": "code",
   "execution_count": 28,
   "metadata": {},
   "outputs": [
    {
     "name": "stdout",
     "output_type": "stream",
     "text": [
      "3\n"
     ]
    }
   ],
   "source": [
    "getSum(x,y) = x+y\n",
    "x, y = 1,2\n",
    "\n",
    "println(getSum(x,y))"
   ]
  },
  {
   "cell_type": "code",
   "execution_count": 29,
   "metadata": {},
   "outputs": [
    {
     "name": "stdout",
     "output_type": "stream",
     "text": [
      "5\n",
      "10\n"
     ]
    }
   ],
   "source": [
    "v1 = 5\n",
    "function changeV1(v1)\n",
    "    v1 = 10\n",
    "end\n",
    "changeV1(v1)\n",
    "println(v1)\n",
    "\n",
    "function changeV1()\n",
    "    global v1 = 10\n",
    "end\n",
    "changeV1()\n",
    "println(v1)"
   ]
  },
  {
   "cell_type": "code",
   "execution_count": 30,
   "metadata": {},
   "outputs": [
    {
     "name": "stdout",
     "output_type": "stream",
     "text": [
      "(5, 6)\n"
     ]
    }
   ],
   "source": [
    "function next2(val)\n",
    "    return (val +1, val+2)\n",
    "end\n",
    "println(next2(4))"
   ]
  },
  {
   "cell_type": "code",
   "execution_count": 31,
   "metadata": {},
   "outputs": [
    {
     "name": "stdout",
     "output_type": "stream",
     "text": [
      "18\n"
     ]
    }
   ],
   "source": [
    "function makeMultiplier(num)\n",
    "    return function(x) return x*num end\n",
    "end\n",
    "\n",
    "mult3 = makeMultiplier(3)\n",
    "println(mult3(6))"
   ]
  },
  {
   "cell_type": "code",
   "execution_count": 32,
   "metadata": {},
   "outputs": [
    {
     "name": "stdout",
     "output_type": "stream",
     "text": [
      "5 + 4 = 9\n",
      "5 + 4 = 9\n"
     ]
    }
   ],
   "source": [
    "function getSum2(num1::Number, num2::Number)\n",
    "    return num1+num2\n",
    "end\n",
    "\n",
    "function getSum2(num1::String, num2::String)\n",
    "    return parse(Int32, num1) + parse(Int32, num2)\n",
    "end\n",
    "\n",
    "println(\"5 + 4 = \", getSum2(5,4))\n",
    "println(\"5 + 4 = \", getSum2(\"5\",\"4\"))"
   ]
  },
  {
   "cell_type": "code",
   "execution_count": 33,
   "metadata": {},
   "outputs": [
    {
     "name": "stdout",
     "output_type": "stream",
     "text": [
      "10\n"
     ]
    }
   ],
   "source": [
    "function getSum3(args...)\n",
    "    sum = 0\n",
    "    for a in args\n",
    "        sum += a\n",
    "    end\n",
    "    println(sum)\n",
    "end\n",
    "\n",
    "getSum3(1,2,3,4)"
   ]
  },
  {
   "cell_type": "code",
   "execution_count": 34,
   "metadata": {},
   "outputs": [
    {
     "name": "stdout",
     "output_type": "stream",
     "text": [
      "[1, 4, 9]\n",
      "[4, 6]\n"
     ]
    }
   ],
   "source": [
    "v2 = map(x -> x*x, [1,2,3])\n",
    "println(v2)\n",
    "\n",
    "v3 = map((x,y) -> x+y, [1,2], [3,4])\n",
    "println(v3)"
   ]
  },
  {
   "cell_type": "code",
   "execution_count": 35,
   "metadata": {},
   "outputs": [
    {
     "name": "stdout",
     "output_type": "stream",
     "text": [
      "5050\n",
      "string\n"
     ]
    }
   ],
   "source": [
    "v4 = reduce(+, 1:100)\n",
    "println(v4)\n",
    "\n",
    "sentence = \"this is a string\"\n",
    "sArray = split(sentence)\n",
    "longest = reduce((x,y) -> length(x) > length(y) ? x : y, sArray)\n",
    "println(longest)"
   ]
  },
  {
   "cell_type": "code",
   "execution_count": 36,
   "metadata": {},
   "outputs": [
    {
     "name": "stdout",
     "output_type": "stream",
     "text": [
      "5 + 4 = 9\n",
      "5 - 4 = 1\n",
      "5 * 4 = 20\n",
      "5 / 4 = 1\n",
      "5 % 4 = 1\n",
      "5 ^ 4 = 625\n",
      "round(3.5) = 4\n",
      "floor(3.5) = 3\n",
      "ceil(3.5) = 4\n",
      "abs(-3.5) = 4\n",
      "sqrt(100) = 10\n",
      "cbrt(100) = 5\n",
      "hypot(90,90) = 127\n",
      "exp(2) = 7\n",
      "log(100) = 5\n",
      "log2(100) = 7\n",
      "log10(100) = 2\n",
      "10\n",
      "[3, 6, 9]\n"
     ]
    }
   ],
   "source": [
    "@printf(\"5 + 4 = %d\\n\", (5 + 4))\n",
    "@printf(\"5 - 4 = %d\\n\", (5 - 4))\n",
    "@printf(\"5 * 4 = %d\\n\", (5 * 4))\n",
    "@printf(\"5 / 4 = %d\\n\", (5 / 4))\n",
    "println(\"5 % 4 = \", (5 % 4))\n",
    "@printf(\"5 ^ 4 = %d\\n\", (5 ^ 4))\n",
    " \n",
    "@printf(\"round(3.5) = %d\\n\", round(3.5))\n",
    "@printf(\"floor(3.5) = %d\\n\", floor(3.5))\n",
    "@printf(\"ceil(3.5) = %d\\n\", round(3.5))\n",
    "@printf(\"abs(-3.5) = %d\\n\", abs(-3.5))\n",
    "@printf(\"sqrt(100) = %d\\n\", sqrt(100))\n",
    "@printf(\"cbrt(100) = %d\\n\", cbrt(100))\n",
    "@printf(\"hypot(90,90) = %d\\n\", hypot(90,90))\n",
    "@printf(\"exp(2) = %d\\n\", exp(2))\n",
    "@printf(\"log(100) = %d\\n\", log(100))\n",
    "@printf(\"log2(100) = %d\\n\", log2(100))\n",
    "@printf(\"log10(100) = %d\\n\", log10(100))\n",
    " \n",
    "# Trig Functions : sin, cos, tan, cot, sec, csc\n",
    "# sinh, cosh, tanh, coth, sech, csch\n",
    "# asin, acos, atan, acot, asec, acsc\n",
    "# asinh, acosh, atanh, acoth, asech, acsch\n",
    "# sinc, cosc\n",
    " \n",
    "# Shortcuts available += -= *= /= ^=\n",
    " \n",
    "# You can imply multiplication without *\n",
    "x = 5\n",
    "println(2x)\n",
    " \n",
    "# Dot operators perform operations on arrays\n",
    "a13 = [1,2,3]\n",
    "println(a13 .* 3)"
   ]
  },
  {
   "cell_type": "code",
   "execution_count": 37,
   "metadata": {},
   "outputs": [
    {
     "name": "stdout",
     "output_type": "stream",
     "text": [
      "green\n"
     ]
    }
   ],
   "source": [
    "@enum Colour begin\n",
    "    red = 1\n",
    "    blue = 2\n",
    "    green = 3\n",
    "end\n",
    "\n",
    "favColour = green::Colour\n",
    "println(favColour)"
   ]
  },
  {
   "cell_type": "code",
   "execution_count": 38,
   "metadata": {},
   "outputs": [
    {
     "name": "stdout",
     "output_type": "stream",
     "text": [
      "Derek\n",
      "3.14\n"
     ]
    }
   ],
   "source": [
    ":Derek\n",
    "println(:Derek)\n",
    "\n",
    "d2 = Dict(:pi => 3.14, :e => 2.718)\n",
    "println(d2[:pi])"
   ]
  },
  {
   "cell_type": "code",
   "execution_count": 39,
   "metadata": {},
   "outputs": [
    {
     "name": "stdout",
     "output_type": "stream",
     "text": [
      "Sarthak Agarwal"
     ]
    },
    {
     "ename": "LoadError",
     "evalue": "setfield! immutable struct of type Customer cannot be changed",
     "output_type": "error",
     "traceback": [
      "setfield! immutable struct of type Customer cannot be changed",
      "",
      "Stacktrace:",
      " [1] setproperty!(x::Customer, f::Symbol, v::String)",
      "   @ Base .\\Base.jl:34",
      " [2] top-level scope",
      "   @ In[39]:10",
      " [3] eval",
      "   @ .\\boot.jl:360 [inlined]",
      " [4] include_string(mapexpr::typeof(REPL.softscope), mod::Module, code::String, filename::String)",
      "   @ Base .\\loading.jl:1094"
     ]
    },
    {
     "name": "stdout",
     "output_type": "stream",
     "text": [
      "\n"
     ]
    }
   ],
   "source": [
    "struct Customer\n",
    "    name::String\n",
    "    balence::Float32\n",
    "    id::Int\n",
    "end\n",
    "\n",
    "cust = Customer(\"Sarthak Agarwal\", 100.50, 123)\n",
    "println(cust.name)\n",
    "\n",
    "cust.name = \"S Agarwal\" #throws error"
   ]
  },
  {
   "cell_type": "code",
   "execution_count": 40,
   "metadata": {},
   "outputs": [
    {
     "name": "stdout",
     "output_type": "stream",
     "text": [
      "Sarthak Agarwal\n"
     ]
    },
    {
     "data": {
      "text/plain": [
       "\"S Agarwal\""
      ]
     },
     "execution_count": 40,
     "metadata": {},
     "output_type": "execute_result"
    }
   ],
   "source": [
    "mutable struct Customer1\n",
    "    name::String\n",
    "    balence::Float32\n",
    "    id::Int\n",
    "end\n",
    "\n",
    "cust = Customer1(\"Sarthak Agarwal\", 100.50, 123)\n",
    "println(cust.name)\n",
    "\n",
    "cust.name = \"S Agarwal\" #throws error"
   ]
  },
  {
   "cell_type": "code",
   "execution_count": 41,
   "metadata": {},
   "outputs": [
    {
     "name": "stdout",
     "output_type": "stream",
     "text": [
      "dog says Ruff\n",
      "cat says Meow\n"
     ]
    }
   ],
   "source": [
    "abstract type Animal end\n",
    "\n",
    "struct Dog <: Animal\n",
    "    name :: String\n",
    "    bark :: String\n",
    "end\n",
    "\n",
    "struct Cat <: Animal\n",
    "    name :: String\n",
    "    meow :: String\n",
    "end\n",
    "\n",
    "dog = Dog(\"dog\", \"Ruff\")\n",
    "cat = Cat(\"cat\", \"Meow\")\n",
    "\n",
    "function makeSound(animal::Dog)\n",
    "    println(\"$(animal.name) says $(animal.bark)\")\n",
    "end\n",
    "\n",
    "\n",
    "function makeSound(animal::Cat)\n",
    "    println(\"$(animal.name) says $(animal.meow)\")\n",
    "end\n",
    "\n",
    "makeSound(dog)\n",
    "makeSound(cat)"
   ]
  },
  {
   "cell_type": "code",
   "execution_count": 42,
   "metadata": {},
   "outputs": [
    {
     "name": "stdout",
     "output_type": "stream",
     "text": [
      "Enter an number stdin> 10\n",
      "Enter a number stdin> 0\n",
      "ErrorException(\"can't divide bt 0\")\n"
     ]
    }
   ],
   "source": [
    "print(\"Enter an number \")\n",
    "num1 = chomp(readline())\n",
    "print(\"Enter a number \")\n",
    "num2 = chomp(readline())\n",
    "\n",
    "try \n",
    "    val = (parse(Int32, num1)) / (parse(Int32, num2))\n",
    "    if(val == Inf)\n",
    "        error(\"can't divide bt 0\")\n",
    "    else\n",
    "        println(val)\n",
    "    end\n",
    "catch e\n",
    "    println(e)\n",
    "end"
   ]
  },
  {
   "cell_type": "code",
   "execution_count": 43,
   "metadata": {},
   "outputs": [
    {
     "name": "stdout",
     "output_type": "stream",
     "text": [
      "Random Text\n",
      "Second Line\n",
      "Extra Line\n",
      "Random Text\n",
      "Second Line\n",
      "Extra Line\n"
     ]
    }
   ],
   "source": [
    "open(\"random2.txt\", \"w\") do file\n",
    "    write(file, \"Random Text\\nSecond Line\\nExtra Line\")\n",
    "end\n",
    "\n",
    "open(\"random2.txt\") do file\n",
    "    data = read(file, String)\n",
    "    println(data)\n",
    "end\n",
    "\n",
    "open(\"random2.txt\") do file\n",
    "    for line in eachline(file)\n",
    "        println(line)\n",
    "    end\n",
    "end"
   ]
  },
  {
   "cell_type": "code",
   "execution_count": 44,
   "metadata": {},
   "outputs": [
    {
     "name": "stdout",
     "output_type": "stream",
     "text": [
      "Hello\n",
      "Hello\n",
      "Hello\n",
      "Hello\n"
     ]
    }
   ],
   "source": [
    "macro doMore(n, exp)\n",
    "    quote\n",
    "        for i = 1:$(esc(n))\n",
    "            $(esc(exp))\n",
    "        end\n",
    "    end\n",
    "end\n",
    "\n",
    "@doMore(4,println(\"Hello\"))"
   ]
  },
  {
   "cell_type": "code",
   "execution_count": 45,
   "metadata": {},
   "outputs": [
    {
     "name": "stdout",
     "output_type": "stream",
     "text": [
      "1\n",
      "2\n",
      "3\n",
      "4\n",
      "5\n",
      "6\n",
      "7\n",
      "8\n",
      "9\n",
      "10\n"
     ]
    }
   ],
   "source": [
    "macro doWhile(exp)\n",
    "    @assert exp.head == :while\n",
    "    esc(quote\n",
    "            $(exp.args[2])\n",
    "            $exp\n",
    "        end)\n",
    "end\n",
    "z = 0\n",
    "@doWhile while z <10\n",
    "    global z+=1\n",
    "    println(z)\n",
    "end"
   ]
  }
 ],
 "metadata": {
  "kernelspec": {
   "display_name": "Julia 1.6.1",
   "language": "julia",
   "name": "julia-1.6"
  },
  "language_info": {
   "file_extension": ".jl",
   "mimetype": "application/julia",
   "name": "julia",
   "version": "1.6.1"
  }
 },
 "nbformat": 4,
 "nbformat_minor": 4
}
